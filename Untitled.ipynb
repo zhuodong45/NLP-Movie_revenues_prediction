{
 "cells": [
  {
   "cell_type": "code",
   "execution_count": 1,
   "metadata": {
    "collapsed": false
   },
   "outputs": [
    {
     "name": "stdout",
     "output_type": "stream",
     "text": [
      "[\"It's\", 'not', 'always', 'clear', 'exactly', \"what's\", 'happening', 'in', 'this', 'dark', 'tale,', 'full', 'of', 'barking', 'dogs', 'and', 'slabs', 'of', 'meat.', 'But', 'you', \"won't\", 'be', 'able', 'to', 'take', 'your', 'eyes', 'from', 'the', 'screen;', 'nor', 'will', 'you', 'quickly', 'forget', 'this', 'fiercely', 'original', 'eye-popper.']\n",
      "[\"It's\", 'another', 'blast', 'of', 'vibrant,', 'vicious,', 'gloomy', 'electricity', 'from', 'the', 'always-surprising', 'Russian', 'film', 'scene,', 'and', 'the', 'beginning', 'of', 'an', 'important', 'career.']\n",
      "['But', 'most', 'important,', 'for', 'the', 'adventurous', 'moviegoer,', \"it's\", 'more', 'than', 'apparent', 'throughout', 'this', 'inventive,', 'hypnotic', 'and', 'queasily', 'funny', 'portrayal', 'of', 'socioeconomic', 'chaos', 'that', 'this', 'director', 'is', 'a', 'talent', 'to', 'watch.']\n",
      "['As', 'opaque', 'as', 'it', 'is', 'mesmerizing,', '4', 'demands', 'open', 'eyes', 'and', 'open', 'minds,', 'but', 'neither', 'is', 'it', 'as', 'difficult', 'as', 'all', 'its', 'weighty', 'silences,', 'oblique', 'detours', 'and', 'countless', 'images', 'of', 'glistening,', 'sweating', 'animal', 'flesh', '-', 'Mother', \"Russia's\", 'raw', 'and', 'seriously', 'overcooked', '-', 'might', 'suggest.']\n",
      "['Puzzling,', 'intriguing,', 'and', 'often', 'compelling,', 'apparently', 'set', 'in', 'the', 'present', 'but', 'magical', 'and', 'futuristic', 'in', 'tone.']\n",
      "['Immense,', 'mystical,', 'and', 'deranged', 'beyond', 'immediate', 'comprehension,', 'Ilya', \"Khrzhanovsky's\", '4', 'is', 'an', 'apocalyptic', 'allegory', 'of', 'Mother', 'Russia', 'and', 'its', 'current', 'state', 'of', 'squalid', 'exhaustion.']\n",
      "['Its', 'bawdy', 'comedy,', 'bravura', 'sound', 'design', 'and', 'uncanny', 'atmosphere', 'will', 'turn', 'on', 'auds', 'with', 'a', 'taste', 'for', 'deeply', 'oddball', 'fare', 'and', 'baffle', 'others.']\n",
      "['Although', 'Khrzhanovsky', 'has', 'several', 'tricks', 'up', 'his', 'sleeve,', \"4's\", 'most', 'provocative', 'quality', 'is', 'its', 'ironic', 'surplus', 'of', 'beauty.']\n",
      "['Looks', 'great', 'but', 'has', 'a', 'shambolic,', 'off-kilter', 'feel', 'that', 'might', 'not', 'be', 'entirely', 'intentional,', 'and', 'is', 'alternately', 'tedious', 'and', 'shocking.']\n",
      "['In', 'spite', 'of', 'a', 'handful', 'of', 'striking', 'images--4', 'never', 'resolves', 'into', 'anything', 'special.']\n"
     ]
    }
   ],
   "source": [
    "import xml.etree.cElementTree as ET\n",
    "\n",
    "TEST_DIR = r\"E:\\cs585project\\NLP-Movie_revenues_prediction\\movies-data-v1.0\\metacritic+starpower+holiday+revenue+screens+reviews\\4.xml\"\n",
    "# tree = ET.ElementTree('.//movies-data-v1.0\\metacritic+starpower+holiday+revenue+screens+reviews\\4.xml')\n",
    "root = ET.parse(TEST_DIR)\n",
    "\n",
    "for tags in root.findall('.//snippet'):\n",
    "    print(tags.text.split())\n",
    "    "
   ]
  },
  {
   "cell_type": "code",
   "execution_count": 72,
   "metadata": {
    "collapsed": false
   },
   "outputs": [
    {
     "name": "stdout",
     "output_type": "stream",
     "text": [
      "[\"It's\", 'not', 'always', 'clear', 'exactly', \"what's\", 'happening', 'in', 'this', 'dark', 'tale,', 'full', 'of', 'barking', 'dogs', 'and', 'slabs', 'of', 'meat.', 'But', 'you', \"won't\", 'be', 'able', 'to', 'take', 'your', 'eyes', 'from', 'the', 'screen;', 'nor', 'will', 'you', 'quickly', 'forget', 'this', 'fiercely', 'original', 'eye-popper.']\n",
      "<class 'str'>\n"
     ]
    }
   ],
   "source": [
    "import xml.etree.cElementTree as ET\n",
    "\n",
    "TEST_DIR = r\"E:\\cs585project\\NLP-Movie_revenues_prediction\\movies-data-v1.0\\metacritic+starpower+holiday+revenue+screens+reviews\\4.xml\"\n",
    "root = ET.parse(TEST_DIR)\n",
    "\n",
    "tags = root.find('.//snippet')\n",
    "print(tags.text.split())\n",
    "print(type(tags.text))"
   ]
  },
  {
   "cell_type": "code",
   "execution_count": 50,
   "metadata": {
    "collapsed": false
   },
   "outputs": [
    {
     "name": "stdout",
     "output_type": "stream",
     "text": [
      "[1, 2, 3, 4, 5]\n"
     ]
    }
   ],
   "source": [
    "lol = lambda lst, sz: [lst[i:i+sz] for i in range(0, len(lst), sz)]\n",
    "x = [1,2,3,4,5,6,7,8,9,55,41,631]\n",
    "x=lol(x,5)\n",
    "print(x[0])"
   ]
  }
 ],
 "metadata": {
  "kernelspec": {
   "display_name": "Python [Root]",
   "language": "python",
   "name": "Python [Root]"
  },
  "language_info": {
   "codemirror_mode": {
    "name": "ipython",
    "version": 3
   },
   "file_extension": ".py",
   "mimetype": "text/x-python",
   "name": "python",
   "nbconvert_exporter": "python",
   "pygments_lexer": "ipython3",
   "version": "3.5.1"
  }
 },
 "nbformat": 4,
 "nbformat_minor": 0
}
